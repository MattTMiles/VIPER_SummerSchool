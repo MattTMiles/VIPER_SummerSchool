{
 "cells": [
  {
   "cell_type": "code",
   "execution_count": 2,
   "metadata": {},
   "outputs": [
    {
     "name": "stderr",
     "output_type": "stream",
     "text": [
      "WARNING: AstropyDeprecationWarning: The private astropy._erfa module has been made into its own package, pyerfa, which is a dependency of astropy and can be imported directly using \"import erfa\" [astropy._erfa]\n"
     ]
    },
    {
     "name": "stdout",
     "output_type": "stream",
     "text": [
      "Do not have mpi4py package.\n",
      "Do not have acor package\n"
     ]
    },
    {
     "name": "stderr",
     "output_type": "stream",
     "text": [
      "\n",
      "WARNING: version mismatch between CFITSIO header (v4.000999999999999) and linked library (v4.01).\n",
      "\n",
      "\n",
      "WARNING: version mismatch between CFITSIO header (v4.000999999999999) and linked library (v4.01).\n",
      "\n",
      "\n",
      "WARNING: version mismatch between CFITSIO header (v4.000999999999999) and linked library (v4.01).\n",
      "\n"
     ]
    },
    {
     "name": "stdout",
     "output_type": "stream",
     "text": [
      "[tempo2Util.C:396] Warning: [TIM1] Please place MODE flags in the parameter file \n",
      "[preProcess.C:158] Warning: PSR J0030+0451 uses DM2+ but does not define DM_SERIES. Assume Taylor. This has behaviour has changed since June 2020!\n",
      "See https://bitbucket.org/psrsoft/tempo2/issues/27/tempo2-dm-polynomial-is-not-a-taylor\n",
      "\n",
      "[tempo2Util.C:401] Warning: [DUP1] duplicated warnings have been suppressed.\n",
      "[preProcess.C:158] Warning: PSR J0034-0534 uses DM2+ but does not define DM_SERIES. Assume Taylor. This has behaviour has changed since June 2020!\n",
      "See https://bitbucket.org/psrsoft/tempo2/issues/27/tempo2-dm-polynomial-is-not-a-taylor\n",
      "\n",
      "[preProcess.C:158] Warning: PSR J0218+4232 uses DM2+ but does not define DM_SERIES. Assume Taylor. This has behaviour has changed since June 2020!\n",
      "See https://bitbucket.org/psrsoft/tempo2/issues/27/tempo2-dm-polynomial-is-not-a-taylor\n",
      "\n",
      "[preProcess.C:158] Warning: PSR J0437-4715 uses DM2+ but does not define DM_SERIES. Assume Taylor. This has behaviour has changed since June 2020!\n",
      "See https://bitbucket.org/psrsoft/tempo2/issues/27/tempo2-dm-polynomial-is-not-a-taylor\n",
      "\n",
      "[preProcess.C:158] Warning: PSR J0613-0200 uses DM2+ but does not define DM_SERIES. Assume Taylor. This has behaviour has changed since June 2020!\n",
      "See https://bitbucket.org/psrsoft/tempo2/issues/27/tempo2-dm-polynomial-is-not-a-taylor\n",
      "\n",
      "[preProcess.C:158] Warning: PSR J0621+1002 uses DM2+ but does not define DM_SERIES. Assume Taylor. This has behaviour has changed since June 2020!\n",
      "See https://bitbucket.org/psrsoft/tempo2/issues/27/tempo2-dm-polynomial-is-not-a-taylor\n",
      "\n",
      "[preProcess.C:158] Warning: PSR J0711-6830 uses DM2+ but does not define DM_SERIES. Assume Taylor. This has behaviour has changed since June 2020!\n",
      "See https://bitbucket.org/psrsoft/tempo2/issues/27/tempo2-dm-polynomial-is-not-a-taylor\n",
      "\n",
      "[preProcess.C:158] Warning: PSR J0751+1807 uses DM2+ but does not define DM_SERIES. Assume Taylor. This has behaviour has changed since June 2020!\n",
      "See https://bitbucket.org/psrsoft/tempo2/issues/27/tempo2-dm-polynomial-is-not-a-taylor\n",
      "\n",
      "[preProcess.C:158] Warning: PSR J0900-3144 uses DM2+ but does not define DM_SERIES. Assume Taylor. This has behaviour has changed since June 2020!\n",
      "See https://bitbucket.org/psrsoft/tempo2/issues/27/tempo2-dm-polynomial-is-not-a-taylor\n",
      "\n",
      "[preProcess.C:158] Warning: PSR J1012+5307 uses DM2+ but does not define DM_SERIES. Assume Taylor. This has behaviour has changed since June 2020!\n",
      "See https://bitbucket.org/psrsoft/tempo2/issues/27/tempo2-dm-polynomial-is-not-a-taylor\n",
      "\n",
      "[preProcess.C:158] Warning: PSR J1022+1001 uses DM2+ but does not define DM_SERIES. Assume Taylor. This has behaviour has changed since June 2020!\n",
      "See https://bitbucket.org/psrsoft/tempo2/issues/27/tempo2-dm-polynomial-is-not-a-taylor\n",
      "\n",
      "[preProcess.C:158] Warning: PSR J1024-0719 uses DM2+ but does not define DM_SERIES. Assume Taylor. This has behaviour has changed since June 2020!\n",
      "See https://bitbucket.org/psrsoft/tempo2/issues/27/tempo2-dm-polynomial-is-not-a-taylor\n",
      "\n",
      "[preProcess.C:158] Warning: PSR J1045-4509 uses DM2+ but does not define DM_SERIES. Assume Taylor. This has behaviour has changed since June 2020!\n",
      "See https://bitbucket.org/psrsoft/tempo2/issues/27/tempo2-dm-polynomial-is-not-a-taylor\n",
      "\n",
      "[preProcess.C:158] Warning: PSR J1455-3330 uses DM2+ but does not define DM_SERIES. Assume Taylor. This has behaviour has changed since June 2020!\n",
      "See https://bitbucket.org/psrsoft/tempo2/issues/27/tempo2-dm-polynomial-is-not-a-taylor\n",
      "\n",
      "[preProcess.C:158] Warning: PSR J1600-3053 uses DM2+ but does not define DM_SERIES. Assume Taylor. This has behaviour has changed since June 2020!\n",
      "See https://bitbucket.org/psrsoft/tempo2/issues/27/tempo2-dm-polynomial-is-not-a-taylor\n",
      "\n",
      "[preProcess.C:158] Warning: PSR J1603-7202 uses DM2+ but does not define DM_SERIES. Assume Taylor. This has behaviour has changed since June 2020!\n",
      "See https://bitbucket.org/psrsoft/tempo2/issues/27/tempo2-dm-polynomial-is-not-a-taylor\n",
      "\n",
      "[preProcess.C:158] Warning: PSR J1614-2230 uses DM2+ but does not define DM_SERIES. Assume Taylor. This has behaviour has changed since June 2020!\n",
      "See https://bi"
     ]
    },
    {
     "name": "stderr",
     "output_type": "stream",
     "text": [
      "WARNING: Could not find pulsar distance for PSR J0034-0534. Setting value to 1 with 20% uncertainty.\n",
      "WARNING: Could not find pulsar distance for PSR J0218+4232. Setting value to 1 with 20% uncertainty.\n",
      "WARNING: Could not find pulsar distance for PSR J0621+1002. Setting value to 1 with 20% uncertainty.\n",
      "WARNING: Could not find pulsar distance for PSR J0751+1807. Setting value to 1 with 20% uncertainty.\n",
      "WARNING: Could not find pulsar distance for PSR J0900-3144. Setting value to 1 with 20% uncertainty.\n",
      "WARNING: Could not find pulsar distance for PSR J1614-2230. Setting value to 1 with 20% uncertainty.\n",
      "WARNING: Could not find pulsar distance for PSR J1944+0907. Setting value to 1 with 20% uncertainty.\n",
      "WARNING: Could not find pulsar distance for PSR J2010-1323. Setting value to 1 with 20% uncertainty.\n",
      "WARNING: Could not find pulsar distance for PSR J2229+2643. Setting value to 1 with 20% uncertainty.\n"
     ]
    },
    {
     "name": "stdout",
     "output_type": "stream",
     "text": [
      "J0030+0451 had timing model fit issue. Excluding from PTA.\n",
      "J0034-0534 had timing model fit issue. Excluding from PTA.\n",
      "J0218+4232 had timing model fit issue. Excluding from PTA.\n",
      "J0437-4715 had timing model fit issue. Excluding from PTA.\n",
      "J0613-0200 had timing model fit issue. Excluding from PTA.\n",
      "J0621+1002 had timing model fit issue. Excluding from PTA.\n",
      "J0711-6830 had timing model fit issue. Excluding from PTA.\n",
      "J0751+1807 had timing model fit issue. Excluding from PTA.\n",
      "J0900-3144 had timing model fit issue. Excluding from PTA.\n",
      "J1012+5307 had timing model fit issue. Excluding from PTA.\n",
      "J1022+1001 had timing model fit issue. Excluding from PTA.\n",
      "J1024-0719 had timing model fit issue. Excluding from PTA.\n",
      "J1045-4509 had timing model fit issue. Excluding from PTA.\n",
      "J1455-3330 had timing model fit issue. Excluding from PTA.\n",
      "J1600-3053 had timing model fit issue. Excluding from PTA.\n",
      "J1603-7202 had timing model fit issue. Excluding from PTA.\n",
      "J1614-2230 had timing model fit issue. Excluding from PTA.\n",
      "J1640+2224 had timing model fit issue. Excluding from PTA.\n",
      "J1643-1224 had timing model fit issue. Excluding from PTA.\n",
      "J1713+0747 had timing model fit issue. Excluding from PTA.\n",
      "J1730-2304 had timing model fit issue. Excluding from PTA.\n",
      "J1744-1134 had timing model fit issue. Excluding from PTA.\n",
      "J1857+0943 had timing model fit issue. Excluding from PTA.\n",
      "J1909-3744 had timing model fit issue. Excluding from PTA.\n",
      "J1918-0642 had timing model fit issue. Excluding from PTA.\n",
      "J1939+2134 had timing model fit issue. Excluding from PTA.\n",
      "J1944+0907 had timing model fit issue. Excluding from PTA.\n",
      "J2010-1323 had timing model fit issue. Excluding from PTA.\n",
      "J2124-3358 had timing model fit issue. Excluding from PTA.\n",
      "J2129-5721 had timing model fit issue. Excluding from PTA.\n",
      "J2145-0750 had timing model fit issue. Excluding from PTA.\n",
      "J2229+2643 had timing model fit issue. Excluding from PTA.\n",
      "J2317+1439 had timing model fit issue. Excluding from PTA.\n"
     ]
    },
    {
     "ename": "AttributeError",
     "evalue": "'builtin_function_or_method' object has no attribute 'min'",
     "output_type": "error",
     "traceback": [
      "\u001b[0;31m---------------------------------------------------------------------------\u001b[0m",
      "\u001b[0;31mAttributeError\u001b[0m                            Traceback (most recent call last)",
      "File \u001b[0;32m/fred/oz002/users/mmiles/VIPER_SummerSchool/combine_run.py:117\u001b[0m, in \u001b[0;36m<module>\u001b[0;34m\u001b[0m\n\u001b[1;32m    115\u001b[0m         save_sims(psrs, outdir=results_dir+'/sims_no_source')\n\u001b[1;32m    116\u001b[0m \n\u001b[0;32m--> 117\u001b[0m pta = crnPTA(psrs,fixedGamma=True)\n\u001b[1;32m    118\u001b[0m \n\u001b[1;32m    119\u001b[0m ii = 0\n",
      "File \u001b[0;32m/fred/oz002/users/mmiles/VIPER_SummerSchool/enterprisePTAs.py:20\u001b[0m, in \u001b[0;36mcrnPTA\u001b[0;34m(psrs, fixedGamma, nfreqs)\u001b[0m\n\u001b[1;32m     19\u001b[0m \u001b[38;5;28;01mdef\u001b[39;00m \u001b[38;5;21mcrnPTA\u001b[39m(psrs,fixedGamma\u001b[38;5;241m=\u001b[39m\u001b[38;5;28;01mTrue\u001b[39;00m,nfreqs\u001b[38;5;241m=\u001b[39m\u001b[38;5;241m10\u001b[39m):\n\u001b[0;32m---> 20\u001b[0m     Tspan \u001b[38;5;241m=\u001b[39m \u001b[43mmodel_utils\u001b[49m\u001b[38;5;241;43m.\u001b[39;49m\u001b[43mget_tspan\u001b[49m\u001b[43m(\u001b[49m\u001b[43mpsrs\u001b[49m\u001b[43m)\u001b[49m\n\u001b[1;32m     22\u001b[0m     efac \u001b[38;5;241m=\u001b[39m parameter\u001b[38;5;241m.\u001b[39mConstant(\u001b[38;5;241m1.0\u001b[39m)\n\u001b[1;32m     23\u001b[0m     ef \u001b[38;5;241m=\u001b[39m white_signals\u001b[38;5;241m.\u001b[39mMeasurementNoise(efac\u001b[38;5;241m=\u001b[39mefac)\n",
      "File \u001b[0;32m~/.conda/envs/viper/lib/python3.9/site-packages/enterprise_extensions/model_utils.py:106\u001b[0m, in \u001b[0;36mget_tspan\u001b[0;34m(psrs)\u001b[0m\n\u001b[1;32m     99\u001b[0m \u001b[38;5;28;01mdef\u001b[39;00m \u001b[38;5;21mget_tspan\u001b[39m(psrs):\n\u001b[1;32m    100\u001b[0m     \u001b[38;5;124;03m\"\"\" Returns maximum time span for all pulsars.\u001b[39;00m\n\u001b[1;32m    101\u001b[0m \n\u001b[1;32m    102\u001b[0m \u001b[38;5;124;03m    :param psrs: List of pulsar objects\u001b[39;00m\n\u001b[1;32m    103\u001b[0m \n\u001b[1;32m    104\u001b[0m \u001b[38;5;124;03m    \"\"\"\u001b[39;00m\n\u001b[0;32m--> 106\u001b[0m     tmin \u001b[38;5;241m=\u001b[39m np\u001b[38;5;241m.\u001b[39mmin([p\u001b[38;5;241m.\u001b[39mtoas\u001b[38;5;241m.\u001b[39mmin() \u001b[38;5;28;01mfor\u001b[39;00m p \u001b[38;5;129;01min\u001b[39;00m psrs])\n\u001b[1;32m    107\u001b[0m     tmax \u001b[38;5;241m=\u001b[39m np\u001b[38;5;241m.\u001b[39mmax([p\u001b[38;5;241m.\u001b[39mtoas\u001b[38;5;241m.\u001b[39mmax() \u001b[38;5;28;01mfor\u001b[39;00m p \u001b[38;5;129;01min\u001b[39;00m psrs])\n\u001b[1;32m    109\u001b[0m     \u001b[38;5;28;01mreturn\u001b[39;00m tmax \u001b[38;5;241m-\u001b[39m tmin\n",
      "File \u001b[0;32m~/.conda/envs/viper/lib/python3.9/site-packages/enterprise_extensions/model_utils.py:106\u001b[0m, in \u001b[0;36m<listcomp>\u001b[0;34m(.0)\u001b[0m\n\u001b[1;32m     99\u001b[0m \u001b[38;5;28;01mdef\u001b[39;00m \u001b[38;5;21mget_tspan\u001b[39m(psrs):\n\u001b[1;32m    100\u001b[0m     \u001b[38;5;124;03m\"\"\" Returns maximum time span for all pulsars.\u001b[39;00m\n\u001b[1;32m    101\u001b[0m \n\u001b[1;32m    102\u001b[0m \u001b[38;5;124;03m    :param psrs: List of pulsar objects\u001b[39;00m\n\u001b[1;32m    103\u001b[0m \n\u001b[1;32m    104\u001b[0m \u001b[38;5;124;03m    \"\"\"\u001b[39;00m\n\u001b[0;32m--> 106\u001b[0m     tmin \u001b[38;5;241m=\u001b[39m np\u001b[38;5;241m.\u001b[39mmin([\u001b[43mp\u001b[49m\u001b[38;5;241;43m.\u001b[39;49m\u001b[43mtoas\u001b[49m\u001b[38;5;241;43m.\u001b[39;49m\u001b[43mmin\u001b[49m() \u001b[38;5;28;01mfor\u001b[39;00m p \u001b[38;5;129;01min\u001b[39;00m psrs])\n\u001b[1;32m    107\u001b[0m     tmax \u001b[38;5;241m=\u001b[39m np\u001b[38;5;241m.\u001b[39mmax([p\u001b[38;5;241m.\u001b[39mtoas\u001b[38;5;241m.\u001b[39mmax() \u001b[38;5;28;01mfor\u001b[39;00m p \u001b[38;5;129;01min\u001b[39;00m psrs])\n\u001b[1;32m    109\u001b[0m     \u001b[38;5;28;01mreturn\u001b[39;00m tmax \u001b[38;5;241m-\u001b[39m tmin\n",
      "\u001b[0;31mAttributeError\u001b[0m: 'builtin_function_or_method' object has no attribute 'min'"
     ]
    }
   ],
   "source": [
    "run combine_run.py -data /fred/oz002/users/mmiles/VIPER_SummerSchool/mdc2 -orf hd -results /fred/oz002/users/mmiles/VIPER_SummerSchool/results -freq 1e-8 -distance 50 -realisations 5"
   ]
  },
  {
   "cell_type": "code",
   "execution_count": 4,
   "metadata": {},
   "outputs": [
    {
     "name": "stderr",
     "output_type": "stream",
     "text": [
      "WARNING: Could not find pulsar distance for PSR J0034-0534. Setting value to 1 with 20% uncertainty.\n",
      "WARNING: Could not find pulsar distance for PSR J0218+4232. Setting value to 1 with 20% uncertainty.\n",
      "WARNING: Could not find pulsar distance for PSR J0621+1002. Setting value to 1 with 20% uncertainty.\n",
      "WARNING: Could not find pulsar distance for PSR J0751+1807. Setting value to 1 with 20% uncertainty.\n",
      "WARNING: Could not find pulsar distance for PSR J0900-3144. Setting value to 1 with 20% uncertainty.\n",
      "WARNING: Could not find pulsar distance for PSR J1614-2230. Setting value to 1 with 20% uncertainty.\n",
      "WARNING: Could not find pulsar distance for PSR J1944+0907. Setting value to 1 with 20% uncertainty.\n",
      "WARNING: Could not find pulsar distance for PSR J2010-1323. Setting value to 1 with 20% uncertainty.\n",
      "WARNING: Could not find pulsar distance for PSR J2229+2643. Setting value to 1 with 20% uncertainty.\n"
     ]
    },
    {
     "ename": "LinAlgError",
     "evalue": "SVD did not converge",
     "output_type": "error",
     "traceback": [
      "\u001b[0;31m---------------------------------------------------------------------------\u001b[0m",
      "\u001b[0;31mLinAlgError\u001b[0m                               Traceback (most recent call last)",
      "Input \u001b[0;32mIn [4]\u001b[0m, in \u001b[0;36m<cell line: 15>\u001b[0;34m()\u001b[0m\n\u001b[1;32m     16\u001b[0m \u001b[38;5;28;01mwhile\u001b[39;00m ii \u001b[38;5;241m<\u001b[39m realisations\u001b[38;5;241m+\u001b[39m\u001b[38;5;241m1\u001b[39m:\n\u001b[1;32m     18\u001b[0m     OS \u001b[38;5;241m=\u001b[39m optimal_statistic\u001b[38;5;241m.\u001b[39mOptimalStatistic(psrs,bayesephem\u001b[38;5;241m=\u001b[39m\u001b[38;5;28;01mFalse\u001b[39;00m,gamma_common\u001b[38;5;241m=\u001b[39m\u001b[38;5;241m4.33\u001b[39m,\n\u001b[1;32m     19\u001b[0m                                             orf\u001b[38;5;241m=\u001b[39morf,pta\u001b[38;5;241m=\u001b[39mpta)\n\u001b[0;32m---> 21\u001b[0m     xi,rho,sig,os,os_sig \u001b[38;5;241m=\u001b[39m \u001b[43mOS\u001b[49m\u001b[38;5;241;43m.\u001b[39;49m\u001b[43mcompute_os\u001b[49m\u001b[43m(\u001b[49m\u001b[43mparams\u001b[49m\u001b[38;5;241;43m=\u001b[39;49m\u001b[43m{\u001b[49m\u001b[38;5;124;43m'\u001b[39;49m\u001b[38;5;124;43mgw_log10_A\u001b[39;49m\u001b[38;5;124;43m'\u001b[39;49m\u001b[43m:\u001b[49m\u001b[38;5;241;43m-\u001b[39;49m\u001b[38;5;241;43m14\u001b[39;49m\u001b[43m}\u001b[49m\u001b[43m)\u001b[49m\n\u001b[1;32m     23\u001b[0m     xi_bin\u001b[38;5;241m.\u001b[39mappend(xi)\n\u001b[1;32m     24\u001b[0m     rho_bin\u001b[38;5;241m.\u001b[39mappend(rho)\n",
      "File \u001b[0;32m~/.conda/envs/viper/lib/python3.9/site-packages/enterprise_extensions/frequentist/optimal_statistic.py:116\u001b[0m, in \u001b[0;36mOptimalStatistic.compute_os\u001b[0;34m(self, params, psd, fgw)\u001b[0m\n\u001b[1;32m    113\u001b[0m             warnings\u001b[38;5;241m.\u001b[39mwarn(msg)\n\u001b[1;32m    115\u001b[0m \u001b[38;5;66;03m# get matrix products\u001b[39;00m\n\u001b[0;32m--> 116\u001b[0m TNrs \u001b[38;5;241m=\u001b[39m \u001b[38;5;28;43mself\u001b[39;49m\u001b[38;5;241;43m.\u001b[39;49m\u001b[43mget_TNr\u001b[49m\u001b[43m(\u001b[49m\u001b[43mparams\u001b[49m\u001b[38;5;241;43m=\u001b[39;49m\u001b[43mparams\u001b[49m\u001b[43m)\u001b[49m\n\u001b[1;32m    117\u001b[0m TNTs \u001b[38;5;241m=\u001b[39m \u001b[38;5;28mself\u001b[39m\u001b[38;5;241m.\u001b[39mget_TNT(params\u001b[38;5;241m=\u001b[39mparams)\n\u001b[1;32m    118\u001b[0m FNrs \u001b[38;5;241m=\u001b[39m \u001b[38;5;28mself\u001b[39m\u001b[38;5;241m.\u001b[39mget_FNr(params\u001b[38;5;241m=\u001b[39mparams)\n",
      "File \u001b[0;32m~/.conda/envs/viper/lib/python3.9/site-packages/enterprise_extensions/frequentist/optimal_statistic.py:406\u001b[0m, in \u001b[0;36mOptimalStatistic.get_TNr\u001b[0;34m(self, params)\u001b[0m\n\u001b[1;32m    405\u001b[0m \u001b[38;5;28;01mdef\u001b[39;00m \u001b[38;5;21mget_TNr\u001b[39m(\u001b[38;5;28mself\u001b[39m, params\u001b[38;5;241m=\u001b[39m{}):\n\u001b[0;32m--> 406\u001b[0m     \u001b[38;5;28;01mreturn\u001b[39;00m \u001b[38;5;28;43mself\u001b[39;49m\u001b[38;5;241;43m.\u001b[39;49m\u001b[43mpta\u001b[49m\u001b[38;5;241;43m.\u001b[39;49m\u001b[43mget_TNr\u001b[49m\u001b[43m(\u001b[49m\u001b[43mparams\u001b[49m\u001b[38;5;241;43m=\u001b[39;49m\u001b[43mparams\u001b[49m\u001b[43m)\u001b[49m\n",
      "File \u001b[0;32m~/.conda/envs/viper/lib/python3.9/site-packages/enterprise/signals/signal_base.py:336\u001b[0m, in \u001b[0;36mPTA.get_TNr\u001b[0;34m(self, params)\u001b[0m\n\u001b[1;32m    335\u001b[0m \u001b[38;5;28;01mdef\u001b[39;00m \u001b[38;5;21mget_TNr\u001b[39m(\u001b[38;5;28mself\u001b[39m, params):\n\u001b[0;32m--> 336\u001b[0m     \u001b[38;5;28;01mreturn\u001b[39;00m [signalcollection\u001b[38;5;241m.\u001b[39mget_TNr(params) \u001b[38;5;28;01mfor\u001b[39;00m signalcollection \u001b[38;5;129;01min\u001b[39;00m \u001b[38;5;28mself\u001b[39m\u001b[38;5;241m.\u001b[39m_signalcollections]\n",
      "File \u001b[0;32m~/.conda/envs/viper/lib/python3.9/site-packages/enterprise/signals/signal_base.py:336\u001b[0m, in \u001b[0;36m<listcomp>\u001b[0;34m(.0)\u001b[0m\n\u001b[1;32m    335\u001b[0m \u001b[38;5;28;01mdef\u001b[39;00m \u001b[38;5;21mget_TNr\u001b[39m(\u001b[38;5;28mself\u001b[39m, params):\n\u001b[0;32m--> 336\u001b[0m     \u001b[38;5;28;01mreturn\u001b[39;00m [\u001b[43msignalcollection\u001b[49m\u001b[38;5;241;43m.\u001b[39;49m\u001b[43mget_TNr\u001b[49m\u001b[43m(\u001b[49m\u001b[43mparams\u001b[49m\u001b[43m)\u001b[49m \u001b[38;5;28;01mfor\u001b[39;00m signalcollection \u001b[38;5;129;01min\u001b[39;00m \u001b[38;5;28mself\u001b[39m\u001b[38;5;241m.\u001b[39m_signalcollections]\n",
      "File \u001b[0;32m~/.conda/envs/viper/lib/python3.9/site-packages/enterprise/signals/signal_base.py:1040\u001b[0m, in \u001b[0;36mcache_call.<locals>.cache_decorator.<locals>.wrapper\u001b[0;34m(self, params)\u001b[0m\n\u001b[1;32m   1037\u001b[0m logger\u001b[38;5;241m.\u001b[39mdebug(msg)\n\u001b[1;32m   1039\u001b[0m cache_list\u001b[38;5;241m.\u001b[39mappend(key)\n\u001b[0;32m-> 1040\u001b[0m cache[key] \u001b[38;5;241m=\u001b[39m \u001b[43mfunc\u001b[49m\u001b[43m(\u001b[49m\u001b[38;5;28;43mself\u001b[39;49m\u001b[43m,\u001b[49m\u001b[43m \u001b[49m\u001b[43mparams\u001b[49m\u001b[43m)\u001b[49m\n\u001b[1;32m   1042\u001b[0m \u001b[38;5;28;01mif\u001b[39;00m \u001b[38;5;28mlen\u001b[39m(cache_list) \u001b[38;5;241m>\u001b[39m limit:\n\u001b[1;32m   1043\u001b[0m     _ \u001b[38;5;241m=\u001b[39m cache\u001b[38;5;241m.\u001b[39mpop(cache_list\u001b[38;5;241m.\u001b[39mpop(\u001b[38;5;241m0\u001b[39m), \u001b[38;5;28;01mNone\u001b[39;00m)  \u001b[38;5;66;03m# noqa: F841\u001b[39;00m\n",
      "File \u001b[0;32m~/.conda/envs/viper/lib/python3.9/site-packages/enterprise/signals/signal_base.py:962\u001b[0m, in \u001b[0;36mSignalCollection.<locals>.SignalCollection.get_TNr\u001b[0;34m(self, params)\u001b[0m\n\u001b[1;32m    960\u001b[0m \u001b[38;5;129m@cache_call\u001b[39m([\u001b[38;5;124m\"\u001b[39m\u001b[38;5;124mbasis_params\u001b[39m\u001b[38;5;124m\"\u001b[39m, \u001b[38;5;124m\"\u001b[39m\u001b[38;5;124mwhite_params\u001b[39m\u001b[38;5;124m\"\u001b[39m, \u001b[38;5;124m\"\u001b[39m\u001b[38;5;124mdelay_params\u001b[39m\u001b[38;5;124m\"\u001b[39m])\n\u001b[1;32m    961\u001b[0m \u001b[38;5;28;01mdef\u001b[39;00m \u001b[38;5;21mget_TNr\u001b[39m(\u001b[38;5;28mself\u001b[39m, params):\n\u001b[0;32m--> 962\u001b[0m     T \u001b[38;5;241m=\u001b[39m \u001b[38;5;28;43mself\u001b[39;49m\u001b[38;5;241;43m.\u001b[39;49m\u001b[43mget_basis\u001b[49m\u001b[43m(\u001b[49m\u001b[43mparams\u001b[49m\u001b[43m)\u001b[49m\n\u001b[1;32m    963\u001b[0m     \u001b[38;5;28;01mif\u001b[39;00m T \u001b[38;5;129;01mis\u001b[39;00m \u001b[38;5;28;01mNone\u001b[39;00m:\n\u001b[1;32m    964\u001b[0m         \u001b[38;5;28;01mreturn\u001b[39;00m \u001b[38;5;28;01mNone\u001b[39;00m\n",
      "File \u001b[0;32m~/.conda/envs/viper/lib/python3.9/site-packages/enterprise/signals/signal_base.py:1040\u001b[0m, in \u001b[0;36mcache_call.<locals>.cache_decorator.<locals>.wrapper\u001b[0;34m(self, params)\u001b[0m\n\u001b[1;32m   1037\u001b[0m logger\u001b[38;5;241m.\u001b[39mdebug(msg)\n\u001b[1;32m   1039\u001b[0m cache_list\u001b[38;5;241m.\u001b[39mappend(key)\n\u001b[0;32m-> 1040\u001b[0m cache[key] \u001b[38;5;241m=\u001b[39m \u001b[43mfunc\u001b[49m\u001b[43m(\u001b[49m\u001b[38;5;28;43mself\u001b[39;49m\u001b[43m,\u001b[49m\u001b[43m \u001b[49m\u001b[43mparams\u001b[49m\u001b[43m)\u001b[49m\n\u001b[1;32m   1042\u001b[0m \u001b[38;5;28;01mif\u001b[39;00m \u001b[38;5;28mlen\u001b[39m(cache_list) \u001b[38;5;241m>\u001b[39m limit:\n\u001b[1;32m   1043\u001b[0m     _ \u001b[38;5;241m=\u001b[39m cache\u001b[38;5;241m.\u001b[39mpop(cache_list\u001b[38;5;241m.\u001b[39mpop(\u001b[38;5;241m0\u001b[39m), \u001b[38;5;28;01mNone\u001b[39;00m)  \u001b[38;5;66;03m# noqa: F841\u001b[39;00m\n",
      "File \u001b[0;32m~/.conda/envs/viper/lib/python3.9/site-packages/enterprise/signals/signal_base.py:933\u001b[0m, in \u001b[0;36mSignalCollection.<locals>.SignalCollection.get_basis\u001b[0;34m(self, params)\u001b[0m\n\u001b[1;32m    931\u001b[0m \u001b[38;5;129m@cache_call\u001b[39m(\u001b[38;5;124m\"\u001b[39m\u001b[38;5;124mbasis_params\u001b[39m\u001b[38;5;124m\"\u001b[39m, limit\u001b[38;5;241m=\u001b[39m\u001b[38;5;241m1\u001b[39m)\n\u001b[1;32m    932\u001b[0m \u001b[38;5;28;01mdef\u001b[39;00m \u001b[38;5;21mget_basis\u001b[39m(\u001b[38;5;28mself\u001b[39m, params\u001b[38;5;241m=\u001b[39m{}):\n\u001b[0;32m--> 933\u001b[0m     \u001b[38;5;28;01mif\u001b[39;00m \u001b[38;5;28;43mself\u001b[39;49m\u001b[38;5;241;43m.\u001b[39;49m\u001b[43m_Fmat\u001b[49m \u001b[38;5;129;01mis\u001b[39;00m \u001b[38;5;28;01mNone\u001b[39;00m:\n\u001b[1;32m    934\u001b[0m         \u001b[38;5;28;01mreturn\u001b[39;00m \u001b[38;5;28;01mNone\u001b[39;00m\n\u001b[1;32m    936\u001b[0m     Fmat \u001b[38;5;241m=\u001b[39m np\u001b[38;5;241m.\u001b[39mzeros_like(\u001b[38;5;28mself\u001b[39m\u001b[38;5;241m.\u001b[39m_Fmat)\n",
      "File \u001b[0;32m~/.conda/envs/viper/lib/python3.9/site-packages/enterprise/signals/signal_base.py:909\u001b[0m, in \u001b[0;36mSignalCollection.<locals>.SignalCollection.__getattr__\u001b[0;34m(self, par)\u001b[0m\n\u001b[1;32m    907\u001b[0m \u001b[38;5;28;01mdef\u001b[39;00m \u001b[38;5;21m__getattr__\u001b[39m(\u001b[38;5;28mself\u001b[39m, par):\n\u001b[1;32m    908\u001b[0m     \u001b[38;5;28;01mif\u001b[39;00m par \u001b[38;5;129;01min\u001b[39;00m (\u001b[38;5;124m\"\u001b[39m\u001b[38;5;124m_idx\u001b[39m\u001b[38;5;124m\"\u001b[39m, \u001b[38;5;124m\"\u001b[39m\u001b[38;5;124m_Fmat\u001b[39m\u001b[38;5;124m\"\u001b[39m):\n\u001b[0;32m--> 909\u001b[0m         \u001b[38;5;28mself\u001b[39m\u001b[38;5;241m.\u001b[39m_idx, \u001b[38;5;28mself\u001b[39m\u001b[38;5;241m.\u001b[39m_Fmat \u001b[38;5;241m=\u001b[39m \u001b[38;5;28;43mself\u001b[39;49m\u001b[38;5;241;43m.\u001b[39;49m\u001b[43m_combine_basis_columns\u001b[49m\u001b[43m(\u001b[49m\u001b[38;5;28;43mself\u001b[39;49m\u001b[38;5;241;43m.\u001b[39;49m\u001b[43m_signals\u001b[49m\u001b[43m)\u001b[49m\n\u001b[1;32m    910\u001b[0m         \u001b[38;5;28;01mreturn\u001b[39;00m \u001b[38;5;28mgetattr\u001b[39m(\u001b[38;5;28mself\u001b[39m, par)\n\u001b[1;32m    911\u001b[0m     \u001b[38;5;28;01melse\u001b[39;00m:\n",
      "File \u001b[0;32m~/.conda/envs/viper/lib/python3.9/site-packages/enterprise/signals/signal_base.py:870\u001b[0m, in \u001b[0;36mSignalCollection.<locals>.SignalCollection._combine_basis_columns\u001b[0;34m(self, signals)\u001b[0m\n\u001b[1;32m    868\u001b[0m idx, hashlist, cc, nrow \u001b[38;5;241m=\u001b[39m {}, [], \u001b[38;5;241m0\u001b[39m, \u001b[38;5;28;01mNone\u001b[39;00m\n\u001b[1;32m    869\u001b[0m \u001b[38;5;28;01mfor\u001b[39;00m signal \u001b[38;5;129;01min\u001b[39;00m signals:\n\u001b[0;32m--> 870\u001b[0m     Fmat \u001b[38;5;241m=\u001b[39m \u001b[43msignal\u001b[49m\u001b[38;5;241;43m.\u001b[39;49m\u001b[43mget_basis\u001b[49m\u001b[43m(\u001b[49m\u001b[43m)\u001b[49m\n\u001b[1;32m    872\u001b[0m     \u001b[38;5;28;01mif\u001b[39;00m Fmat \u001b[38;5;129;01mis\u001b[39;00m \u001b[38;5;129;01mnot\u001b[39;00m \u001b[38;5;28;01mNone\u001b[39;00m:\n\u001b[1;32m    873\u001b[0m         nrow \u001b[38;5;241m=\u001b[39m Fmat\u001b[38;5;241m.\u001b[39mshape[\u001b[38;5;241m0\u001b[39m]\n",
      "File \u001b[0;32m~/.conda/envs/viper/lib/python3.9/site-packages/enterprise/signals/gp_signals.py:170\u001b[0m, in \u001b[0;36mBasisGP.<locals>.BasisGP.get_basis\u001b[0;34m(self, params)\u001b[0m\n\u001b[1;32m    169\u001b[0m \u001b[38;5;28;01mdef\u001b[39;00m \u001b[38;5;21mget_basis\u001b[39m(\u001b[38;5;28mself\u001b[39m, params\u001b[38;5;241m=\u001b[39m{}):\n\u001b[0;32m--> 170\u001b[0m     \u001b[38;5;28;43mself\u001b[39;49m\u001b[38;5;241;43m.\u001b[39;49m\u001b[43m_construct_basis\u001b[49m\u001b[43m(\u001b[49m\u001b[43mparams\u001b[49m\u001b[43m)\u001b[49m\n\u001b[1;32m    172\u001b[0m     \u001b[38;5;28;01mreturn\u001b[39;00m \u001b[38;5;28mself\u001b[39m\u001b[38;5;241m.\u001b[39m_basis\n",
      "File \u001b[0;32m~/.conda/envs/viper/lib/python3.9/site-packages/enterprise/signals/signal_base.py:1040\u001b[0m, in \u001b[0;36mcache_call.<locals>.cache_decorator.<locals>.wrapper\u001b[0;34m(self, params)\u001b[0m\n\u001b[1;32m   1037\u001b[0m logger\u001b[38;5;241m.\u001b[39mdebug(msg)\n\u001b[1;32m   1039\u001b[0m cache_list\u001b[38;5;241m.\u001b[39mappend(key)\n\u001b[0;32m-> 1040\u001b[0m cache[key] \u001b[38;5;241m=\u001b[39m \u001b[43mfunc\u001b[49m\u001b[43m(\u001b[49m\u001b[38;5;28;43mself\u001b[39;49m\u001b[43m,\u001b[49m\u001b[43m \u001b[49m\u001b[43mparams\u001b[49m\u001b[43m)\u001b[49m\n\u001b[1;32m   1042\u001b[0m \u001b[38;5;28;01mif\u001b[39;00m \u001b[38;5;28mlen\u001b[39m(cache_list) \u001b[38;5;241m>\u001b[39m limit:\n\u001b[1;32m   1043\u001b[0m     _ \u001b[38;5;241m=\u001b[39m cache\u001b[38;5;241m.\u001b[39mpop(cache_list\u001b[38;5;241m.\u001b[39mpop(\u001b[38;5;241m0\u001b[39m), \u001b[38;5;28;01mNone\u001b[39;00m)  \u001b[38;5;66;03m# noqa: F841\u001b[39;00m\n",
      "File \u001b[0;32m~/.conda/envs/viper/lib/python3.9/site-packages/enterprise/signals/gp_signals.py:100\u001b[0m, in \u001b[0;36mBasisGP.<locals>.BasisGP._construct_basis\u001b[0;34m(self, params)\u001b[0m\n\u001b[1;32m     98\u001b[0m basis, \u001b[38;5;28mself\u001b[39m\u001b[38;5;241m.\u001b[39m_labels \u001b[38;5;241m=\u001b[39m {}, {}\n\u001b[1;32m     99\u001b[0m \u001b[38;5;28;01mfor\u001b[39;00m key, mask \u001b[38;5;129;01min\u001b[39;00m \u001b[38;5;28mzip\u001b[39m(\u001b[38;5;28mself\u001b[39m\u001b[38;5;241m.\u001b[39m_keys, \u001b[38;5;28mself\u001b[39m\u001b[38;5;241m.\u001b[39m_masks):\n\u001b[0;32m--> 100\u001b[0m     basis[key], \u001b[38;5;28mself\u001b[39m\u001b[38;5;241m.\u001b[39m_labels[key] \u001b[38;5;241m=\u001b[39m \u001b[38;5;28;43mself\u001b[39;49m\u001b[38;5;241;43m.\u001b[39;49m\u001b[43m_bases\u001b[49m\u001b[43m[\u001b[49m\u001b[43mkey\u001b[49m\u001b[43m]\u001b[49m\u001b[43m(\u001b[49m\u001b[43mparams\u001b[49m\u001b[38;5;241;43m=\u001b[39;49m\u001b[43mparams\u001b[49m\u001b[43m,\u001b[49m\u001b[43m \u001b[49m\u001b[43mmask\u001b[49m\u001b[38;5;241;43m=\u001b[39;49m\u001b[43mmask\u001b[49m\u001b[43m)\u001b[49m\n\u001b[1;32m    102\u001b[0m nc \u001b[38;5;241m=\u001b[39m \u001b[38;5;28msum\u001b[39m(F\u001b[38;5;241m.\u001b[39mshape[\u001b[38;5;241m1\u001b[39m] \u001b[38;5;28;01mfor\u001b[39;00m F \u001b[38;5;129;01min\u001b[39;00m basis\u001b[38;5;241m.\u001b[39mvalues())\n\u001b[1;32m    103\u001b[0m \u001b[38;5;28mself\u001b[39m\u001b[38;5;241m.\u001b[39m_basis \u001b[38;5;241m=\u001b[39m np\u001b[38;5;241m.\u001b[39mzeros((\u001b[38;5;28mlen\u001b[39m(\u001b[38;5;28mself\u001b[39m\u001b[38;5;241m.\u001b[39m_masks[\u001b[38;5;241m0\u001b[39m]), nc))\n",
      "File \u001b[0;32m~/.conda/envs/viper/lib/python3.9/site-packages/enterprise/signals/parameter.py:454\u001b[0m, in \u001b[0;36mFunction.<locals>.Function.__call__\u001b[0;34m(self, *args, **kwargs)\u001b[0m\n\u001b[1;32m    444\u001b[0m \u001b[38;5;66;03m# clean up parameters that are not meant for `func`\u001b[39;00m\n\u001b[1;32m    445\u001b[0m \u001b[38;5;66;03m# keep those required for `selection_func` to work\u001b[39;00m\n\u001b[1;32m    446\u001b[0m \u001b[38;5;66;03m# keep also `size` needed by samplers\u001b[39;00m\n\u001b[1;32m    448\u001b[0m kwargs \u001b[38;5;241m=\u001b[39m {\n\u001b[1;32m    449\u001b[0m     par: val\n\u001b[1;32m    450\u001b[0m     \u001b[38;5;28;01mfor\u001b[39;00m par, val \u001b[38;5;129;01min\u001b[39;00m kwargs\u001b[38;5;241m.\u001b[39mitems()\n\u001b[1;32m    451\u001b[0m     \u001b[38;5;28;01mif\u001b[39;00m (par \u001b[38;5;129;01min\u001b[39;00m \u001b[38;5;28mself\u001b[39m\u001b[38;5;241m.\u001b[39mfunc_kwargs \u001b[38;5;129;01mor\u001b[39;00m par \u001b[38;5;129;01min\u001b[39;00m \u001b[38;5;28mself\u001b[39m\u001b[38;5;241m.\u001b[39mfunc_args \u001b[38;5;129;01mor\u001b[39;00m par \u001b[38;5;129;01min\u001b[39;00m [\u001b[38;5;124m\"\u001b[39m\u001b[38;5;124mpsr\u001b[39m\u001b[38;5;124m\"\u001b[39m, \u001b[38;5;124m\"\u001b[39m\u001b[38;5;124mmask\u001b[39m\u001b[38;5;124m\"\u001b[39m, \u001b[38;5;124m\"\u001b[39m\u001b[38;5;124msize\u001b[39m\u001b[38;5;124m\"\u001b[39m])\n\u001b[1;32m    452\u001b[0m }\n\u001b[0;32m--> 454\u001b[0m \u001b[38;5;28;01mreturn\u001b[39;00m \u001b[43mfunc\u001b[49m\u001b[43m(\u001b[49m\u001b[38;5;241;43m*\u001b[39;49m\u001b[43margs\u001b[49m\u001b[43m,\u001b[49m\u001b[43m \u001b[49m\u001b[38;5;241;43m*\u001b[39;49m\u001b[38;5;241;43m*\u001b[39;49m\u001b[43mkwargs\u001b[49m\u001b[43m)\u001b[49m\n",
      "File \u001b[0;32m~/.conda/envs/viper/lib/python3.9/site-packages/enterprise/signals/selections.py:49\u001b[0m, in \u001b[0;36mselection_func.<locals>.wrapper\u001b[0;34m(*args, **kwargs)\u001b[0m\n\u001b[1;32m     46\u001b[0m \u001b[38;5;28;01mif\u001b[39;00m \u001b[38;5;124m\"\u001b[39m\u001b[38;5;124mpsr\u001b[39m\u001b[38;5;124m\"\u001b[39m \u001b[38;5;129;01min\u001b[39;00m kwargs \u001b[38;5;129;01mand\u001b[39;00m \u001b[38;5;124m\"\u001b[39m\u001b[38;5;124mpsr\u001b[39m\u001b[38;5;124m\"\u001b[39m \u001b[38;5;129;01mnot\u001b[39;00m \u001b[38;5;129;01min\u001b[39;00m funcargs:\n\u001b[1;32m     47\u001b[0m     \u001b[38;5;28;01mdel\u001b[39;00m kwargs[\u001b[38;5;124m\"\u001b[39m\u001b[38;5;124mpsr\u001b[39m\u001b[38;5;124m\"\u001b[39m]\n\u001b[0;32m---> 49\u001b[0m \u001b[38;5;28;01mreturn\u001b[39;00m \u001b[43mfunc\u001b[49m\u001b[43m(\u001b[49m\u001b[38;5;241;43m*\u001b[39;49m\u001b[43mtargs\u001b[49m\u001b[43m,\u001b[49m\u001b[43m \u001b[49m\u001b[38;5;241;43m*\u001b[39;49m\u001b[38;5;241;43m*\u001b[39;49m\u001b[43mkwargs\u001b[49m\u001b[43m)\u001b[49m\n",
      "File \u001b[0;32m~/.conda/envs/viper/lib/python3.9/site-packages/enterprise/signals/utils.py:883\u001b[0m, in \u001b[0;36msvd_tm_basis\u001b[0;34m(Mmat)\u001b[0m\n\u001b[1;32m    881\u001b[0m \u001b[38;5;129m@function\u001b[39m\n\u001b[1;32m    882\u001b[0m \u001b[38;5;28;01mdef\u001b[39;00m \u001b[38;5;21msvd_tm_basis\u001b[39m(Mmat):\n\u001b[0;32m--> 883\u001b[0m     u, s, v \u001b[38;5;241m=\u001b[39m \u001b[43mnp\u001b[49m\u001b[38;5;241;43m.\u001b[39;49m\u001b[43mlinalg\u001b[49m\u001b[38;5;241;43m.\u001b[39;49m\u001b[43msvd\u001b[49m\u001b[43m(\u001b[49m\u001b[43mMmat\u001b[49m\u001b[43m,\u001b[49m\u001b[43m \u001b[49m\u001b[43mfull_matrices\u001b[49m\u001b[38;5;241;43m=\u001b[39;49m\u001b[38;5;28;43;01mFalse\u001b[39;49;00m\u001b[43m)\u001b[49m\n\u001b[1;32m    884\u001b[0m     \u001b[38;5;28;01mreturn\u001b[39;00m u, np\u001b[38;5;241m.\u001b[39mones_like(s)\n",
      "File \u001b[0;32m<__array_function__ internals>:180\u001b[0m, in \u001b[0;36msvd\u001b[0;34m(*args, **kwargs)\u001b[0m\n",
      "File \u001b[0;32m~/.conda/envs/viper/lib/python3.9/site-packages/numpy/linalg/linalg.py:1657\u001b[0m, in \u001b[0;36msvd\u001b[0;34m(a, full_matrices, compute_uv, hermitian)\u001b[0m\n\u001b[1;32m   1654\u001b[0m         gufunc \u001b[38;5;241m=\u001b[39m _umath_linalg\u001b[38;5;241m.\u001b[39msvd_n_s\n\u001b[1;32m   1656\u001b[0m signature \u001b[38;5;241m=\u001b[39m \u001b[38;5;124m'\u001b[39m\u001b[38;5;124mD->DdD\u001b[39m\u001b[38;5;124m'\u001b[39m \u001b[38;5;28;01mif\u001b[39;00m isComplexType(t) \u001b[38;5;28;01melse\u001b[39;00m \u001b[38;5;124m'\u001b[39m\u001b[38;5;124md->ddd\u001b[39m\u001b[38;5;124m'\u001b[39m\n\u001b[0;32m-> 1657\u001b[0m u, s, vh \u001b[38;5;241m=\u001b[39m \u001b[43mgufunc\u001b[49m\u001b[43m(\u001b[49m\u001b[43ma\u001b[49m\u001b[43m,\u001b[49m\u001b[43m \u001b[49m\u001b[43msignature\u001b[49m\u001b[38;5;241;43m=\u001b[39;49m\u001b[43msignature\u001b[49m\u001b[43m,\u001b[49m\u001b[43m \u001b[49m\u001b[43mextobj\u001b[49m\u001b[38;5;241;43m=\u001b[39;49m\u001b[43mextobj\u001b[49m\u001b[43m)\u001b[49m\n\u001b[1;32m   1658\u001b[0m u \u001b[38;5;241m=\u001b[39m u\u001b[38;5;241m.\u001b[39mastype(result_t, copy\u001b[38;5;241m=\u001b[39m\u001b[38;5;28;01mFalse\u001b[39;00m)\n\u001b[1;32m   1659\u001b[0m s \u001b[38;5;241m=\u001b[39m s\u001b[38;5;241m.\u001b[39mastype(_realType(result_t), copy\u001b[38;5;241m=\u001b[39m\u001b[38;5;28;01mFalse\u001b[39;00m)\n",
      "File \u001b[0;32m~/.conda/envs/viper/lib/python3.9/site-packages/numpy/linalg/linalg.py:98\u001b[0m, in \u001b[0;36m_raise_linalgerror_svd_nonconvergence\u001b[0;34m(err, flag)\u001b[0m\n\u001b[1;32m     97\u001b[0m \u001b[38;5;28;01mdef\u001b[39;00m \u001b[38;5;21m_raise_linalgerror_svd_nonconvergence\u001b[39m(err, flag):\n\u001b[0;32m---> 98\u001b[0m     \u001b[38;5;28;01mraise\u001b[39;00m LinAlgError(\u001b[38;5;124m\"\u001b[39m\u001b[38;5;124mSVD did not converge\u001b[39m\u001b[38;5;124m\"\u001b[39m)\n",
      "\u001b[0;31mLinAlgError\u001b[0m: SVD did not converge"
     ]
    }
   ],
   "source": [
    "\n",
    "psrs = lt2ent(psrs)\n",
    "pta = crnPTA(psrs,fixedGamma=True)\n",
    "\n",
    "ii = 0\n",
    "snrbin = []\n",
    "xi_bin = []\n",
    "rho_bin = []\n",
    "sig_bin = []\n",
    "os_bin = []\n",
    "os_sig_bin = []\n",
    "\n",
    "def takeClosest(num,collection):\n",
    "   return np.argmin(collection,key=lambda x:abs(x-num))\n",
    "\n",
    "if realisations is not None:\n",
    "    while ii < realisations+1:\n",
    "    \n",
    "        OS = optimal_statistic.OptimalStatistic(psrs,bayesephem=False,gamma_common=4.33,\n",
    "                                                orf=orf,pta=pta)\n",
    "\n",
    "        xi,rho,sig,os,os_sig = OS.compute_os(params={'gw_log10_A':-14})\n",
    "        \n",
    "        xi_bin.append(xi)\n",
    "        rho_bin.append(rho)\n",
    "        sig_bin.append(sig)\n",
    "        os_bin.append(os)\n",
    "        os_sig_bin.append(os_sig)\n",
    "\n",
    "        snr = os/os_sig\n",
    "        snrbin.append(snr)\n",
    "\n",
    "        ii = ii+1\n",
    "\n",
    "    snrbin = np.array(snrbin)\n",
    "    \n",
    "    median_index = takeClosest(np.median(snr),snrbin)\n",
    "    snr = snrbin[median_index]\n",
    "    \n",
    "    data = [xi_bin[median_index], rho_bin[median_index], sig_bin[median_index],\n",
    "            os_bin[median_index],os_sig_bin[median_index]]\n",
    "    \n",
    "    df = pd.DataFrame(data,columns = [\"xi\",\"rho\",\"sig\",\"os\",\"os_sig\"])\n",
    "\n",
    "else:   \n",
    "    while ii < 11:\n",
    "\n",
    "        OS = optimal_statistic.OptimalStatistic(psrs,bayesephem=False,gamma_common=4.33,\n",
    "                                                orf='hd',pta=pta)\n",
    "\n",
    "        xi,rho,sig,os,os_sig = OS.compute_os(params={'gw_log10_A':-14})\n",
    "        \n",
    "        xi_bin.append(xi)\n",
    "        rho_bin.append(rho)\n",
    "        sig_bin.append(sig)\n",
    "        os_bin.append(os)\n",
    "        os_sig_bin.append(os_sig)\n",
    "\n",
    "        snr = os/os_sig\n",
    "        snrbin.append(snr)\n",
    "\n",
    "        ii = ii+1\n",
    "\n",
    "    snrbin = np.array(snrbin)\n",
    "\n",
    "    median_index = takeClosest(np.median(snr),snrbin)\n",
    "    snr = snrbin[median_index]\n",
    "    \n",
    "    data = [xi_bin[median_index], rho_bin[median_index], sig_bin[median_index],\n",
    "            os_bin[median_index],os_sig_bin[median_index]]\n",
    "    \n",
    "    df = pd.DataFrame(data,columns = [\"xi\",\"rho\",\"sig\",\"os\",\"os_sig\"])\n",
    "    \n",
    "\n",
    "df.to_pickle(results_dir+'/data_'+name)\n",
    "    \n",
    "with open(results_dir+'/params_'+name+'.txt', 'w') as f:\n",
    "    \n",
    "    f.write(\"OS_sig: {} \\n\".format(os_sig))\n",
    "    f.write(\"OS: {} \\n\".format(os))\n",
    "    f.write(\"SNR: {} \\n\".format(snr))\n",
    "\n",
    "if ss_mass is not None: \n",
    "    for key, value in pdict.items(): \n",
    "\n",
    "        f.write('%s:%s\\n' % (key, value))\n",
    "\n",
    "        f.close()\n",
    "else:\n",
    "    f.close()\n",
    "\n",
    "plotBinnedCrossCor(xi,rho,sig,os)\n",
    "plt.savefig(results_dir+\"/\"+name+\"ORF.fig\")\n",
    "plt.close()\n",
    "\n"
   ]
  },
  {
   "cell_type": "code",
   "execution_count": 5,
   "metadata": {},
   "outputs": [
    {
     "data": {
      "text/plain": [
       "0"
      ]
     },
     "execution_count": 5,
     "metadata": {},
     "output_type": "execute_result"
    }
   ],
   "source": []
  }
 ],
 "metadata": {
  "kernelspec": {
   "display_name": "viper",
   "language": "python",
   "name": "viper"
  },
  "language_info": {
   "codemirror_mode": {
    "name": "ipython",
    "version": 3
   },
   "file_extension": ".py",
   "mimetype": "text/x-python",
   "name": "python",
   "nbconvert_exporter": "python",
   "pygments_lexer": "ipython3",
   "version": "3.9.0"
  }
 },
 "nbformat": 4,
 "nbformat_minor": 2
}
