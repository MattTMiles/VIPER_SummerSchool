{
 "cells": [
  {
   "cell_type": "code",
   "execution_count": 2,
   "id": "87e1c965",
   "metadata": {},
   "outputs": [
    {
     "name": "stdout",
     "output_type": "stream",
     "text": [
      "The autoreload extension is already loaded. To reload it, use:\n",
      "  %reload_ext autoreload\n"
     ]
    }
   ],
   "source": [
    "%matplotlib inline\n",
    "%config InlineBackend.figure_format = 'retina'\n",
    "\n",
    "%load_ext autoreload\n",
    "%autoreload 2\n",
    "\n",
    "import numpy as np\n",
    "import glob\n",
    "import matplotlib.pyplot as plt\n",
    "import scipy.linalg as sl\n",
    "\n",
    "import enterprise\n",
    "from enterprise.pulsar import Pulsar\n",
    "\n",
    "import enterprise_extensions\n",
    "from enterprise_extensions.frequentist import optimal_statistic\n",
    "from enterprise_extensions import models, model_utils, hypermodel\n",
    "\n",
    "import corner\n",
    "from PTMCMCSampler.PTMCMCSampler import PTSampler as ptmcmc\n",
    "from simFuncs import *\n",
    "from enterprisePTAs import crnPTA, mcSample"
   ]
  },
  {
   "cell_type": "code",
   "execution_count": 23,
   "id": "755968c3",
   "metadata": {},
   "outputs": [],
   "source": [
    "def HandD(x):\n",
    "    c = (1-np.cos(x))/2\n",
    "    return (1/2) - (1/4)*c+ (3/2)*c*np.log(c)\n",
    "\n",
    "def plotBinnedCrossCor(xi,rho,sig,os_A,orf=HandD,bins=10):\n",
    "    temp = np.arange(0,len(xi),len(xi)/bins,dtype=np.int16)\n",
    "    ranges = np.zeros(bins+1)\n",
    "    ranges[0:bins]=temp\n",
    "    ranges[bins]=len(xi)\n",
    "    \n",
    "    xiAvg = np.zeros(bins)\n",
    "    rhoAvg = np.zeros(bins)\n",
    "    sigmaComb = np.zeros(bins)\n",
    "    \n",
    "    #Need to sort by pulsar separation\n",
    "    sortMask = np.argsort(xi)\n",
    "    \n",
    "    for i in range(bins):\n",
    "        #Mask and select range of values to average\n",
    "        subXi = xi[sortMask]\n",
    "        subXi = subXi[int(ranges[i]):int(ranges[i+1])]\n",
    "        subRho = rho[sortMask]\n",
    "        subRho = subRho[int(ranges[i]):int(ranges[i+1])]\n",
    "        subSig = sig[sortMask]\n",
    "        subSig = subSig[int(ranges[i]):int(ranges[i+1])]\n",
    "        \n",
    "        #Useful to not type this out every time\n",
    "        subSigSquare = np.square(subSig)\n",
    "        \n",
    "        #Average the separations, no weighting\n",
    "        xiAvg[i] = np.average(subXi)\n",
    "        \n",
    "        #Average the correlated amplitude, with weighting\n",
    "        rhoAvg[i] = np.sum(subRho/subSigSquare)/np.sum(1/subSigSquare)\n",
    "        \n",
    "        #Averaging the uncertanties\n",
    "        sigmaComb[i] = 1/np.sqrt(np.sum(1/subSigSquare))\n",
    "    \n",
    "    #Plot data\n",
    "    plt.errorbar(xiAvg,rhoAvg,yerr=sigmaComb,fmt='ro',label='Data')\n",
    "    \n",
    "    #Model plotting\n",
    "    xvals = np.arange(0.05,np.pi,.05)\n",
    "    yvals = os_A*orf(xvals)\n",
    "        \n",
    "    #Plot sum\n",
    "    plt.plot(xvals,yvals,'b-',label='ORF')\n",
    "    plt.legend()\n",
    "    plt.grid()\n",
    "    plt.title(f'Binned correlation data with ORF')\n",
    "    plt.xlabel('Pulsar separation')\n",
    "    plt.ylabel('Correlated $A^2$')\n",
    "    plt.show()\n"
   ]
  },
  {
   "cell_type": "code",
   "execution_count": 4,
   "id": "0d3e2d60",
   "metadata": {
    "scrolled": true
   },
   "outputs": [
    {
     "name": "stdout",
     "output_type": "stream",
     "text": [
      "[tempo2Util.C:396] Warning: [TIM1] Please place MODE flags in the parameter file \n",
      "[preProcess.C:158] Warning: PSR J0030+0451 uses DM2+ but does not define DM_SERIES. Assume Taylor. This has behaviour has changed since June 2020!\n",
      "See https://bitbucket.org/psrsoft/tempo2/issues/27/tempo2-dm-polynomial-is-not-a-taylor\n",
      "\n",
      "[tempo2Util.C:401] Warning: [DUP1] duplicated warnings have been suppressed.\n",
      "[preProcess.C:158] Warning: PSR J0034-0534 uses DM2+ but does not define DM_SERIES. Assume Taylor. This has behaviour has changed since June 2020!\n",
      "See https://bitbucket.org/psrsoft/tempo2/issues/27/tempo2-dm-polynomial-is-not-a-taylor\n",
      "\n",
      "[preProcess.C:158] Warning: PSR J0218+4232 uses DM2+ but does not define DM_SERIES. Assume Taylor. This has behaviour has changed since June 2020!\n",
      "See https://bitbucket.org/psrsoft/tempo2/issues/27/tempo2-dm-polynomial-is-not-a-taylor\n",
      "\n",
      "[preProcess.C:158] Warning: PSR J0437-4715 uses DM2+ but does not define DM_SERIES. Assume Taylor. This has behaviour has changed since June 2020!\n",
      "See https://bitbucket.org/psrsoft/tempo2/issues/27/tempo2-dm-polynomial-is-not-a-taylor\n",
      "\n",
      "[preProcess.C:158] Warning: PSR J0613-0200 uses DM2+ but does not define DM_SERIES. Assume Taylor. This has behaviour has changed since June 2020!\n",
      "See https://bitbucket.org/psrsoft/tempo2/issues/27/tempo2-dm-polynomial-is-not-a-taylor\n",
      "\n",
      "[preProcess.C:158] Warning: PSR J0621+1002 uses DM2+ but does not define DM_SERIES. Assume Taylor. This has behaviour has changed since June 2020!\n",
      "See https://bitbucket.org/psrsoft/tempo2/issues/27/tempo2-dm-polynomial-is-not-a-taylor\n",
      "\n",
      "[preProcess.C:158] Warning: PSR J0711-6830 uses DM2+ but does not define DM_SERIES. Assume Taylor. This has behaviour has changed since June 2020!\n",
      "See https://bitbucket.org/psrsoft/tempo2/issues/27/tempo2-dm-polynomial-is-not-a-taylor\n",
      "\n",
      "[preProcess.C:158] Warning: PSR J0751+1807 uses DM2+ but does not define DM_SERIES. Assume Taylor. This has behaviour has changed since June 2020!\n",
      "See https://bitbucket.org/psrsoft/tempo2/issues/27/tempo2-dm-polynomial-is-not-a-taylor\n",
      "\n",
      "[preProcess.C:158] Warning: PSR J0900-3144 uses DM2+ but does not define DM_SERIES. Assume Taylor. This has behaviour has changed since June 2020!\n",
      "See https://bitbucket.org/psrsoft/tempo2/issues/27/tempo2-dm-polynomial-is-not-a-taylor\n",
      "\n",
      "[preProcess.C:158] Warning: PSR J1012+5307 uses DM2+ but does not define DM_SERIES. Assume Taylor. This has behaviour has changed since June 2020!\n",
      "See https://bitbucket.org/psrsoft/tempo2/issues/27/tempo2-dm-polynomial-is-not-a-taylor\n",
      "\n",
      "[preProcess.C:158] Warning: PSR J1022+1001 uses DM2+ but does not define DM_SERIES. Assume Taylor. This has behaviour has changed since June 2020!\n",
      "See https://bitbucket.org/psrsoft/tempo2/issues/27/tempo2-dm-polynomial-is-not-a-taylor\n",
      "\n",
      "[preProcess.C:158] Warning: PSR J1024-0719 uses DM2+ but does not define DM_SERIES. Assume Taylor. This has behaviour has changed since June 2020!\n",
      "See https://bitbucket.org/psrsoft/tempo2/issues/27/tempo2-dm-polynomial-is-not-a-taylor\n",
      "\n",
      "[preProcess.C:158] Warning: PSR J1045-4509 uses DM2+ but does not define DM_SERIES. Assume Taylor. This has behaviour has changed since June 2020!\n",
      "See https://bitbucket.org/psrsoft/tempo2/issues/27/tempo2-dm-polynomial-is-not-a-taylor\n",
      "\n",
      "[preProcess.C:158] Warning: PSR J1455-3330 uses DM2+ but does not define DM_SERIES. Assume Taylor. This has behaviour has changed since June 2020!\n",
      "See https://bitbucket.org/psrsoft/tempo2/issues/27/tempo2-dm-polynomial-is-not-a-taylor\n",
      "\n",
      "[preProcess.C:158] Warning: PSR J1600-3053 uses DM2+ but does not define DM_SERIES. Assume Taylor. This has behaviour has changed since June 2020!\n",
      "See https://bitbucket.org/psrsoft/tempo2/issues/27/tempo2-dm-polynomial-is-not-a-taylor\n",
      "\n",
      "[preProcess.C:158] Warning: PSR J1603-7202 uses DM2+ but does not define DM_SERIES. Assume Taylor. This has behaviour has changed since June 2020!\n",
      "See https://bitbucket.org/psrsoft/tempo2/issues/27/tempo2-dm-polynomial-is-not-a-taylor\n",
      "\n",
      "[preProcess.C:158] Warning: PSR J1614-2230 uses DM2+ but does not define DM_SERIES. Assume Taylor. This has behaviour has changed since June 2020!\n",
      "See https://bitbucket.org/psrsoft/tempo2/issues/27/tempo2-dm-polynomial-is-not-a-taylor\n",
      "\n",
      "[preProcess.C:158] Warning: PSR J1640+2224 uses DM2+ but does not define DM_SERIES. Assume Taylor. This has behaviour has changed since June 2020!\n",
      "See https://bitbucket.org/psrsoft/tempo2/issues/27/tempo2-dm-polynomial-is-not-a-taylor\n",
      "\n",
      "[preProcess.C:158] Warning: PSR J1643-1224 uses DM2+ but does not define DM_SERIES. Assume Taylor. This has behaviour has changed since June 2020!\n",
      "See https://bitbucket.org/psrsoft/tempo2/issues/27/tempo2-dm-polynomial-is-not-a-taylor\n",
      "\n",
      "[preProcess.C:158] Warning: PSR J1713+0747 uses DM2+ but does not define DM_SERIES. Assume Taylor. This has behaviour has changed since June 2020!\n",
      "See https://bitbucket.org/psrsoft/tempo2/issues/27/tempo2-dm-polynomial-is-not-a-taylor\n",
      "\n",
      "[preProcess.C:158] Warning: PSR J1730-2304 uses DM2+ but does not define DM_SERIES. Assume Taylor. This has behaviour has changed since June 2020!\n",
      "See https://bitbucket.org/psrsoft/tempo2/issues/27/tempo2-dm-polynomial-is-not-a-taylor\n",
      "\n",
      "[preProcess.C:158] Warning: PSR J1744-1134 uses DM2+ but does not define DM_SERIES. Assume Taylor. This has behaviour has changed since June 2020!\n",
      "See https://bitbucket.org/psrsoft/tempo2/issues/27/tempo2-dm-polynomial-is-not-a-taylor\n",
      "\n",
      "[preProcess.C:158] Warning: PSR J1857+0943 uses DM2+ but does not define DM_SERIES. Assume Taylor. This has behaviour has changed since June 2020!\n",
      "See https://bitbucket.org/psrsoft/tempo2/issues/27/tempo2-dm-polynomial-is-not-a-taylor\n",
      "\n",
      "[preProcess.C:158] Warning: PSR J1909-3744 uses DM2+ but does not define DM_SERIES. Assume Taylor. This has behaviour has changed since June 2020!\n",
      "See https://bitbucket.org/psrsoft/tempo2/issues/27/tempo2-dm-polynomial-is-not-a-taylor\n",
      "\n",
      "[preProcess.C:158] Warning: PSR J1918-0642 uses DM2+ but does not define DM_SERIES. Assume Taylor. This has behaviour has changed since June 2020!\n",
      "See https://bitbucket.org/psrsoft/tempo2/issues/27/tempo2-dm-polynomial-is-not-a-taylor\n",
      "\n",
      "[preProcess.C:158] Warning: PSR J1939+2134 uses DM2+ but does not define DM_SERIES. Assume Taylor. This has behaviour has changed since June 2020!\n",
      "See https://bitbucket.org/psrsoft/tempo2/issues/27/tempo2-dm-polynomial-is-not-a-taylor\n",
      "\n",
      "[preProcess.C:158] Warning: PSR J1944+0907 uses DM2+ but does not define DM_SERIES. Assume Taylor. This has behaviour has changed since June 2020!\n",
      "See https://bitbucket.org/psrsoft/tempo2/issues/27/tempo2-dm-polynomial-is-not-a-taylor\n",
      "\n",
      "[preProcess.C:158] Warning: PSR J2010-1323 uses DM2+ but does not define DM_SERIES. Assume Taylor. This has behaviour has changed since June 2020!\n",
      "See https://bitbucket.org/psrsoft/tempo2/issues/27/tempo2-dm-polynomial-is-not-a-taylor\n",
      "\n",
      "[preProcess.C:158] Warning: PSR J2124-3358 uses DM2+ but does not define DM_SERIES. Assume Taylor. This has behaviour has changed since June 2020!\n",
      "See https://bitbucket.org/psrsoft/tempo2/issues/27/tempo2-dm-polynomial-is-not-a-taylor\n",
      "\n",
      "[preProcess.C:158] Warning: PSR J2129-5721 uses DM2+ but does not define DM_SERIES. Assume Taylor. This has behaviour has changed since June 2020!\n",
      "See https://bitbucket.org/psrsoft/tempo2/issues/27/tempo2-dm-polynomial-is-not-a-taylor\n",
      "\n",
      "[preProcess.C:158] Warning: PSR J2145-0750 uses DM2+ but does not define DM_SERIES. Assume Taylor. This has behaviour has changed since June 2020!\n",
      "See https://bitbucket.org/psrsoft/tempo2/issues/27/tempo2-dm-polynomial-is-not-a-taylor\n",
      "\n",
      "[preProcess.C:158] Warning: PSR J2229+2643 uses DM2+ but does not define DM_SERIES. Assume Taylor. This has behaviour has changed since June 2020!\n",
      "See https://bitbucket.org/psrsoft/tempo2/issues/27/tempo2-dm-polynomial-is-not-a-taylor\n",
      "\n",
      "[preProcess.C:158] Warning: PSR J2317+1439 uses DM2+ but does not define DM_SERIES. Assume Taylor. This has behaviour has changed since June 2020!\n",
      "See https://bitbucket.org/psrsoft/tempo2/issues/27/tempo2-dm-polynomial-is-not-a-taylor\n",
      "\n"
     ]
    },
    {
     "name": "stderr",
     "output_type": "stream",
     "text": [
      "WARNING: Could not find pulsar distance for PSR J0034-0534. Setting value to 1 with 20% uncertainty.\n",
      "WARNING: Could not find pulsar distance for PSR J0218+4232. Setting value to 1 with 20% uncertainty.\n",
      "WARNING: Could not find pulsar distance for PSR J0621+1002. Setting value to 1 with 20% uncertainty.\n",
      "WARNING: Could not find pulsar distance for PSR J0751+1807. Setting value to 1 with 20% uncertainty.\n",
      "WARNING: Could not find pulsar distance for PSR J0900-3144. Setting value to 1 with 20% uncertainty.\n",
      "WARNING: Could not find pulsar distance for PSR J1614-2230. Setting value to 1 with 20% uncertainty.\n",
      "WARNING: Could not find pulsar distance for PSR J1944+0907. Setting value to 1 with 20% uncertainty.\n",
      "WARNING: Could not find pulsar distance for PSR J2010-1323. Setting value to 1 with 20% uncertainty.\n",
      "WARNING: Could not find pulsar distance for PSR J2229+2643. Setting value to 1 with 20% uncertainty.\n"
     ]
    }
   ],
   "source": [
    "parfiles = sorted(glob.glob('mdc2/*.par'))\n",
    "obstimes = 53000.0 + np.linspace(0.0,20.0,520) * 365.25\n",
    "\n",
    "ltpsrs = create_psrs(parfiles,obstimes,toaerr=0.01)\n",
    "add_gwb(ltpsrs,amp=1e-14)\n",
    "psrs = lt2ent(ltpsrs)"
   ]
  },
  {
   "cell_type": "code",
   "execution_count": 17,
   "id": "914d8cd8",
   "metadata": {},
   "outputs": [],
   "source": [
    "pta = crnPTA(psrs,fixedGamma=True)"
   ]
  },
  {
   "cell_type": "code",
   "execution_count": 18,
   "id": "83a521e6",
   "metadata": {},
   "outputs": [],
   "source": [
    "OS = optimal_statistic.OptimalStatistic(psrs,bayesephem=False,gamma_common=4.33,\n",
    "                                        orf='hd',pta=pta)\n"
   ]
  },
  {
   "cell_type": "code",
   "execution_count": 19,
   "id": "1de38ed1",
   "metadata": {},
   "outputs": [
    {
     "name": "stdout",
     "output_type": "stream",
     "text": [
      "8.737115183890265e-29 6.653690086853472e-30\n"
     ]
    }
   ],
   "source": [
    "xi,rho,sig,os,os_sig = OS.compute_os(params={'gw_log10_A':-14})\n",
    "print(os,os_sig)"
   ]
  },
  {
   "cell_type": "code",
   "execution_count": 24,
   "id": "89acf8a0",
   "metadata": {},
   "outputs": [
    {
     "data": {
      "image/png": "[encoded data removed]",
      "text/plain": [
       "<Figure size 432x288 with 1 Axes>"
      ]
     },
     "metadata": {
      "image/png": {
       "height": 277,
       "width": 385
      },
      "needs_background": "light"
     },
     "output_type": "display_data"
    }
   ],
   "source": [
    "plotBinnedCrossCor(xi,rho,sig,os)"
   ]
  }
 ],
 "metadata": {
  "kernelspec": {
   "display_name": "Python [conda env:pta_software]",
   "language": "python",
   "name": "conda-env-pta_software-py"
  },
  "language_info": {
   "codemirror_mode": {
    "name": "ipython",
    "version": 3
   },
   "file_extension": ".py",
   "mimetype": "text/x-python",
   "name": "python",
   "nbconvert_exporter": "python",
   "pygments_lexer": "ipython3",
   "version": "3.9.10"
  }
 },
 "nbformat": 4,
 "nbformat_minor": 5
}
